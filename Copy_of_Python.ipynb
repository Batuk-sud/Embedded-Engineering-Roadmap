{
  "nbformat": 4,
  "nbformat_minor": 0,
  "metadata": {
    "colab": {
      "provenance": [],
      "authorship_tag": "ABX9TyNIO4bqHaiHGp2YbFUdSx5b",
      "include_colab_link": true
    },
    "kernelspec": {
      "name": "python3",
      "display_name": "Python 3"
    },
    "language_info": {
      "name": "python"
    }
  },
  "cells": [
    {
      "cell_type": "markdown",
      "metadata": {
        "id": "view-in-github",
        "colab_type": "text"
      },
      "source": [
        "<a href=\"https://colab.research.google.com/github/Batuk-sud/Embedded-Engineering-Roadmap/blob/master/Copy_of_Python.ipynb\" target=\"_parent\"><img src=\"https://colab.research.google.com/assets/colab-badge.svg\" alt=\"Open In Colab\"/></a>"
      ]
    },
    {
      "cell_type": "code",
      "execution_count": null,
      "metadata": {
        "colab": {
          "base_uri": "https://localhost:8080/"
        },
        "id": "wt7Y2ZARRpfl",
        "outputId": "f0e11296-e86a-4bf5-8827-395aef717bf7"
      },
      "outputs": [
        {
          "output_type": "stream",
          "name": "stdout",
          "text": [
            "sudhanshu\n"
          ]
        }
      ],
      "source": [
        "print('sudhanshu')"
      ]
    },
    {
      "cell_type": "code",
      "source": [
        "print(\"Sud\",\"Data science\", \"Uttar Pradesh\", \"India\")\n"
      ],
      "metadata": {
        "colab": {
          "base_uri": "https://localhost:8080/"
        },
        "id": "XPodNomevEFf",
        "outputId": "4bc97cc2-4d89-48c1-d0b1-d256b4da5a74"
      },
      "execution_count": 1,
      "outputs": [
        {
          "output_type": "stream",
          "name": "stdout",
          "text": [
            "Sud Data science Uttar Pradesh India\n"
          ]
        }
      ]
    },
    {
      "cell_type": "code",
      "source": [
        "print('sud')"
      ],
      "metadata": {
        "colab": {
          "base_uri": "https://localhost:8080/"
        },
        "id": "WyYhrblrSHMi",
        "outputId": "7ec189cc-2ec2-459e-a4d8-05ab4ef3d5c7"
      },
      "execution_count": null,
      "outputs": [
        {
          "output_type": "stream",
          "name": "stdout",
          "text": [
            "sud\n"
          ]
        }
      ]
    },
    {
      "cell_type": "markdown",
      "source": [],
      "metadata": {
        "id": "yJ207xX3YF9_"
      }
    },
    {
      "cell_type": "code",
      "source": [
        "#python"
      ],
      "metadata": {
        "id": "faVqIXryYHCU"
      },
      "execution_count": null,
      "outputs": []
    },
    {
      "cell_type": "code",
      "source": [
        "#python\n",
        "#1. it was introduced by guido van rossum in the year 1991.\n",
        "#Ist version launched was python 0.90.\n",
        "# python is a programming language.\n",
        "#--> the mode or way to communicate with the hardware of a particular system.\n",
        "#3. python is a high level language.i.e.lang which is understandable by humans but not the hardware directly.\n",
        "#--> it requires a mediator to execute the program\n",
        "#4.python is an interpreter lang--> it will execute code line by line\n"
      ],
      "metadata": {
        "id": "tKQcOaNpYSzw"
      },
      "execution_count": null,
      "outputs": []
    },
    {
      "cell_type": "code",
      "source": [
        "#where is py used?\n",
        "#software application,web dev,wherever the data analysis involved then python is required.\n",
        "#AI/ML/DeepLearning/"
      ],
      "metadata": {
        "id": "Cbq-jHulg5we"
      },
      "execution_count": null,
      "outputs": []
    },
    {
      "cell_type": "code",
      "source": [
        "# why python?\n",
        "#it is simple to learn\n",
        "# vast domain\n",
        "#compatible with lots of systems\n",
        "#portable means OS doesnt matter and can be used anywhere\n",
        "#open source and free\n"
      ],
      "metadata": {
        "id": "_e99UCB2aONE"
      },
      "execution_count": null,
      "outputs": []
    },
    {
      "cell_type": "code",
      "source": [
        "print(\"1\")\n",
        "print(\"2\")\n",
        "print(\"3\")\n",
        "pr(\"4\")#error so wont print here onwards\n",
        "print(\"5\")#will not get executed bcz of error in the above line.\n",
        "\n"
      ],
      "metadata": {
        "colab": {
          "base_uri": "https://localhost:8080/",
          "height": 245
        },
        "id": "WJlp_FX8fqCz",
        "outputId": "5305d475-a721-4a0f-9722-d0106f644da2"
      },
      "execution_count": null,
      "outputs": [
        {
          "output_type": "stream",
          "name": "stdout",
          "text": [
            "1\n",
            "2\n",
            "3\n"
          ]
        },
        {
          "output_type": "error",
          "ename": "NameError",
          "evalue": "name 'pr' is not defined",
          "traceback": [
            "\u001b[0;31m---------------------------------------------------------------------------\u001b[0m",
            "\u001b[0;31mNameError\u001b[0m                                 Traceback (most recent call last)",
            "\u001b[0;32m<ipython-input-10-7118170a64c7>\u001b[0m in \u001b[0;36m<cell line: 4>\u001b[0;34m()\u001b[0m\n\u001b[1;32m      2\u001b[0m \u001b[0mprint\u001b[0m\u001b[0;34m(\u001b[0m\u001b[0;34m\"2\"\u001b[0m\u001b[0;34m)\u001b[0m\u001b[0;34m\u001b[0m\u001b[0;34m\u001b[0m\u001b[0m\n\u001b[1;32m      3\u001b[0m \u001b[0mprint\u001b[0m\u001b[0;34m(\u001b[0m\u001b[0;34m\"3\"\u001b[0m\u001b[0;34m)\u001b[0m\u001b[0;34m\u001b[0m\u001b[0;34m\u001b[0m\u001b[0m\n\u001b[0;32m----> 4\u001b[0;31m \u001b[0mpr\u001b[0m\u001b[0;34m(\u001b[0m\u001b[0;34m\"4\"\u001b[0m\u001b[0;34m)\u001b[0m\u001b[0;34m\u001b[0m\u001b[0;34m\u001b[0m\u001b[0m\n\u001b[0m\u001b[1;32m      5\u001b[0m \u001b[0mprint\u001b[0m\u001b[0;34m(\u001b[0m\u001b[0;34m\"5\"\u001b[0m\u001b[0;34m)\u001b[0m\u001b[0;34m\u001b[0m\u001b[0;34m\u001b[0m\u001b[0m\n",
            "\u001b[0;31mNameError\u001b[0m: name 'pr' is not defined"
          ]
        }
      ]
    },
    {
      "cell_type": "code",
      "source": [
        "myvar=7\n",
        "print(myvar)"
      ],
      "metadata": {
        "colab": {
          "base_uri": "https://localhost:8080/"
        },
        "id": "mWXVXpYWxwP6",
        "outputId": "ac87c0c2-ed22-48e6-95b6-2fafd37d825f"
      },
      "execution_count": 2,
      "outputs": [
        {
          "output_type": "stream",
          "name": "stdout",
          "text": [
            "7\n"
          ]
        }
      ]
    },
    {
      "cell_type": "code",
      "source": [
        "6myvar=7\n",
        "print(6myvar)\n",
        "\n"
      ],
      "metadata": {
        "colab": {
          "base_uri": "https://localhost:8080/",
          "height": 106
        },
        "id": "E58H4SYsx2Qs",
        "outputId": "ce097d8e-026f-4999-fc29-bcac8d9113a3"
      },
      "execution_count": 3,
      "outputs": [
        {
          "output_type": "error",
          "ename": "SyntaxError",
          "evalue": "invalid decimal literal (<ipython-input-3-d6ff63353de0>, line 1)",
          "traceback": [
            "\u001b[0;36m  File \u001b[0;32m\"<ipython-input-3-d6ff63353de0>\"\u001b[0;36m, line \u001b[0;32m1\u001b[0m\n\u001b[0;31m    6myvar=7\u001b[0m\n\u001b[0m    ^\u001b[0m\n\u001b[0;31mSyntaxError\u001b[0m\u001b[0;31m:\u001b[0m invalid decimal literal\n"
          ]
        }
      ]
    },
    {
      "cell_type": "code",
      "source": [
        "myvar1=7\n",
        "myvar2=18\n",
        "_myvar3=45\n",
        "print(myvar1,myvar2,_myvar3)"
      ],
      "metadata": {
        "colab": {
          "base_uri": "https://localhost:8080/"
        },
        "id": "nBzQzCjoyODL",
        "outputId": "63467fa1-9c11-4176-976f-38ffff60f8fc"
      },
      "execution_count": 6,
      "outputs": [
        {
          "output_type": "stream",
          "name": "stdout",
          "text": [
            "7 18 45\n"
          ]
        }
      ]
    },
    {
      "cell_type": "code",
      "source": [
        "my_123var=32\n",
        "print(my_123var)"
      ],
      "metadata": {
        "colab": {
          "base_uri": "https://localhost:8080/"
        },
        "id": "ojAhNXp-yiDH",
        "outputId": "8872caf5-438e-4617-bd71-fb6d0a02b607"
      },
      "execution_count": 7,
      "outputs": [
        {
          "output_type": "stream",
          "name": "stdout",
          "text": [
            "32\n"
          ]
        }
      ]
    },
    {
      "cell_type": "code",
      "source": [],
      "metadata": {
        "id": "A7zOK4cfykjo"
      },
      "execution_count": 7,
      "outputs": []
    },
    {
      "cell_type": "code",
      "source": [
        "myvar12=34\n",
        "print(\"myvar12\")"
      ],
      "metadata": {
        "colab": {
          "base_uri": "https://localhost:8080/"
        },
        "id": "p7iIY7zxzEoj",
        "outputId": "4dc480c2-5721-4117-e333-a4be1009c681"
      },
      "execution_count": 8,
      "outputs": [
        {
          "output_type": "stream",
          "name": "stdout",
          "text": [
            "myvar12\n"
          ]
        }
      ]
    },
    {
      "cell_type": "code",
      "source": [
        "my_var1,my_var2,my_var3=7,18,45\n",
        "print(my_var3,my_var1,my_var2)\n"
      ],
      "metadata": {
        "colab": {
          "base_uri": "https://localhost:8080/"
        },
        "id": "H6uCrKREzLd_",
        "outputId": "cf184057-05be-4544-adba-b32b45200727"
      },
      "execution_count": 9,
      "outputs": [
        {
          "output_type": "stream",
          "name": "stdout",
          "text": [
            "45 7 18\n"
          ]
        }
      ]
    },
    {
      "cell_type": "code",
      "source": [
        "var1=7\n",
        "var2=\"7\"\n",
        "print(var1,var2)"
      ],
      "metadata": {
        "colab": {
          "base_uri": "https://localhost:8080/"
        },
        "id": "_YIchNoCzp20",
        "outputId": "9c6fbd51-dba8-45ba-bb98-fd9be0915f75"
      },
      "execution_count": 10,
      "outputs": [
        {
          "output_type": "stream",
          "name": "stdout",
          "text": [
            "7 7\n"
          ]
        }
      ]
    },
    {
      "cell_type": "code",
      "source": [
        "#datatypes\n",
        "1. numerical Datatype --> int,float"
      ],
      "metadata": {
        "id": "dVSRObgr0tFK"
      },
      "execution_count": null,
      "outputs": []
    },
    {
      "cell_type": "code",
      "source": [],
      "metadata": {
        "id": "1_ddZzoO18yG"
      },
      "execution_count": null,
      "outputs": []
    },
    {
      "cell_type": "code",
      "source": [
        "var1=7\n",
        "print(type(var1))"
      ],
      "metadata": {
        "colab": {
          "base_uri": "https://localhost:8080/"
        },
        "id": "bdY4UtKM1FQj",
        "outputId": "ad12cba4-0a40-497f-c165-f722943a3e71"
      },
      "execution_count": 11,
      "outputs": [
        {
          "output_type": "stream",
          "name": "stdout",
          "text": [
            "<class 'int'>\n"
          ]
        }
      ]
    },
    {
      "cell_type": "code",
      "source": [
        "var2=7.18\n",
        "print(type(var2))\n"
      ],
      "metadata": {
        "colab": {
          "base_uri": "https://localhost:8080/"
        },
        "id": "HnZmBsKe1JNE",
        "outputId": "e32835ce-6687-4bd6-91ef-fc2c1ea0e020"
      },
      "execution_count": 12,
      "outputs": [
        {
          "output_type": "stream",
          "name": "stdout",
          "text": [
            "<class 'float'>\n"
          ]
        }
      ]
    },
    {
      "cell_type": "code",
      "source": [
        "myvar1,myvar2=7,4.5\n",
        "print(type(myvar1),type(myvar2))"
      ],
      "metadata": {
        "colab": {
          "base_uri": "https://localhost:8080/"
        },
        "id": "BfmdNUCP1YAD",
        "outputId": "fb431ce5-4123-4570-edb0-3a205cf40746"
      },
      "execution_count": 13,
      "outputs": [
        {
          "output_type": "stream",
          "name": "stdout",
          "text": [
            "<class 'int'> <class 'float'>\n"
          ]
        }
      ]
    },
    {
      "cell_type": "code",
      "source": [
        "var1 = 7\n",
        "print(var1,'is',type(var1))"
      ],
      "metadata": {
        "colab": {
          "base_uri": "https://localhost:8080/"
        },
        "id": "ofVhqKQT1mE0",
        "outputId": "d5b29406-fb03-4d6e-cbbd-f5351215d306"
      },
      "execution_count": 14,
      "outputs": [
        {
          "output_type": "stream",
          "name": "stdout",
          "text": [
            "7 is <class 'int'>\n"
          ]
        }
      ]
    },
    {
      "cell_type": "code",
      "source": [
        "myname=\"something\"\n",
        "print(myname,type(myname))"
      ],
      "metadata": {
        "colab": {
          "base_uri": "https://localhost:8080/"
        },
        "id": "XekPLab42FH5",
        "outputId": "786c717c-655f-4a9f-8244-c997b08a92d6"
      },
      "execution_count": 15,
      "outputs": [
        {
          "output_type": "stream",
          "name": "stdout",
          "text": [
            "something <class 'str'>\n"
          ]
        }
      ]
    },
    {
      "cell_type": "code",
      "source": [
        "mybool=True\n",
        "print(mybool,type(mybool))"
      ],
      "metadata": {
        "colab": {
          "base_uri": "https://localhost:8080/"
        },
        "id": "FLFfDcpn2nyV",
        "outputId": "ab7ac88d-8842-4dad-fcb0-dd9d357b4fc9"
      },
      "execution_count": 16,
      "outputs": [
        {
          "output_type": "stream",
          "name": "stdout",
          "text": [
            "True <class 'bool'>\n"
          ]
        }
      ]
    },
    {
      "cell_type": "code",
      "source": [
        "mybool=False\n",
        "myvar=\"False\"\n",
        "print(type(mybool),type(myvar))"
      ],
      "metadata": {
        "colab": {
          "base_uri": "https://localhost:8080/"
        },
        "id": "Ddqxlfwg4ITG",
        "outputId": "03e54cfe-645c-49b4-e489-77569c694e1d"
      },
      "execution_count": 17,
      "outputs": [
        {
          "output_type": "stream",
          "name": "stdout",
          "text": [
            "<class 'bool'> <class 'str'>\n"
          ]
        }
      ]
    },
    {
      "cell_type": "code",
      "source": [],
      "metadata": {
        "id": "T5qHki0U4kAs"
      },
      "execution_count": null,
      "outputs": []
    },
    {
      "cell_type": "code",
      "source": [
        "var1=10\n",
        "var2=3\n",
        "print(var1*var2)\n"
      ],
      "metadata": {
        "colab": {
          "base_uri": "https://localhost:8080/"
        },
        "id": "0xaB3JnjAeNg",
        "outputId": "cdeadc8a-72a2-4954-d71f-43717aaafca6"
      },
      "execution_count": 18,
      "outputs": [
        {
          "output_type": "stream",
          "name": "stdout",
          "text": [
            "30\n"
          ]
        }
      ]
    },
    {
      "cell_type": "code",
      "source": [
        "#division\n",
        "var1=10\n",
        "var2=3\n",
        "print(var1/var2)"
      ],
      "metadata": {
        "colab": {
          "base_uri": "https://localhost:8080/"
        },
        "id": "upeCHvNMAlGa",
        "outputId": "dc533831-f449-4e67-a351-905132f8dc45"
      },
      "execution_count": 19,
      "outputs": [
        {
          "output_type": "stream",
          "name": "stdout",
          "text": [
            "3.3333333333333335\n"
          ]
        }
      ]
    },
    {
      "cell_type": "code",
      "source": [
        "#floor division\n",
        "var1=10\n",
        "var2=3\n",
        "print(var1//var2)"
      ],
      "metadata": {
        "colab": {
          "base_uri": "https://localhost:8080/"
        },
        "id": "8Ynnlp8RAvbZ",
        "outputId": "5760e2dd-6845-4a47-d54c-39a7df613baf"
      },
      "execution_count": 21,
      "outputs": [
        {
          "output_type": "stream",
          "name": "stdout",
          "text": [
            "3\n"
          ]
        }
      ]
    },
    {
      "cell_type": "code",
      "source": [
        "#modulus or reminder\n",
        "var1=10\n",
        "var2=2\n",
        "print(var1%var2)"
      ],
      "metadata": {
        "colab": {
          "base_uri": "https://localhost:8080/"
        },
        "id": "1bm514jqA42V",
        "outputId": "2484ae81-2822-4620-fe6f-5c7aa7055522"
      },
      "execution_count": 22,
      "outputs": [
        {
          "output_type": "stream",
          "name": "stdout",
          "text": [
            "0\n"
          ]
        }
      ]
    },
    {
      "cell_type": "code",
      "source": [
        "var1=10\n",
        "var=3\n",
        "print(var1%var2)"
      ],
      "metadata": {
        "colab": {
          "base_uri": "https://localhost:8080/"
        },
        "id": "4VujZd6vBqXf",
        "outputId": "1bd4c78b-d001-4896-86ba-c0cbdf22d246"
      },
      "execution_count": 23,
      "outputs": [
        {
          "output_type": "stream",
          "name": "stdout",
          "text": [
            "0\n"
          ]
        }
      ]
    },
    {
      "cell_type": "code",
      "source": [
        "#exponential operators --> to the power of something --> x**y --> x power y\n",
        "var1=4\n",
        "var2=2\n",
        "print(var1**var2)"
      ],
      "metadata": {
        "colab": {
          "base_uri": "https://localhost:8080/"
        },
        "id": "e7Fe43jEByov",
        "outputId": "a0f7022a-057a-4df6-88af-e17326a43f87"
      },
      "execution_count": 25,
      "outputs": [
        {
          "output_type": "stream",
          "name": "stdout",
          "text": [
            "16\n"
          ]
        }
      ]
    },
    {
      "cell_type": "code",
      "source": [
        "#comparison operators--> output will be in the form of boolean\n",
        "#==\n",
        "var1=7\n",
        "var2=18\n",
        "print(var1==var2)"
      ],
      "metadata": {
        "colab": {
          "base_uri": "https://localhost:8080/"
        },
        "id": "O2dFxKirD336",
        "outputId": "5339df43-028e-4dea-8c4a-2d09d35d467c"
      },
      "execution_count": 26,
      "outputs": [
        {
          "output_type": "stream",
          "name": "stdout",
          "text": [
            "False\n"
          ]
        }
      ]
    },
    {
      "cell_type": "code",
      "source": [
        "var1=7\n",
        "var2=18\n",
        "print(var1!=var2)"
      ],
      "metadata": {
        "colab": {
          "base_uri": "https://localhost:8080/"
        },
        "id": "i8-chLnFEnMi",
        "outputId": "07de53d9-ed89-4321-8ec8-de9601b0fe1e"
      },
      "execution_count": 27,
      "outputs": [
        {
          "output_type": "stream",
          "name": "stdout",
          "text": [
            "True\n"
          ]
        }
      ]
    },
    {
      "cell_type": "code",
      "source": [
        "var1=7\n",
        "var2=18\n",
        "print(var1!=var2)"
      ],
      "metadata": {
        "colab": {
          "base_uri": "https://localhost:8080/"
        },
        "id": "345DcJ_4EVD5",
        "outputId": "e42d5270-2497-471b-97bd-5f904bf6a041"
      },
      "execution_count": 28,
      "outputs": [
        {
          "output_type": "stream",
          "name": "stdout",
          "text": [
            "True\n"
          ]
        }
      ]
    },
    {
      "cell_type": "code",
      "source": [
        "var1=7\n",
        "var2=18\n",
        "print(var1<var2)"
      ],
      "metadata": {
        "colab": {
          "base_uri": "https://localhost:8080/"
        },
        "id": "h3rB6L0lErxT",
        "outputId": "b513fc9f-0728-4fce-ef70-9d8770408830"
      },
      "execution_count": 29,
      "outputs": [
        {
          "output_type": "stream",
          "name": "stdout",
          "text": [
            "True\n"
          ]
        }
      ]
    },
    {
      "cell_type": "code",
      "source": [
        "#<\n",
        "var1=7\n",
        "var2=4\n",
        "print(var1<var2)"
      ],
      "metadata": {
        "colab": {
          "base_uri": "https://localhost:8080/"
        },
        "id": "4vlsfwibFSou",
        "outputId": "9264056b-ef19-4420-f1be-593108ad81fd"
      },
      "execution_count": 30,
      "outputs": [
        {
          "output_type": "stream",
          "name": "stdout",
          "text": [
            "False\n"
          ]
        }
      ]
    },
    {
      "cell_type": "code",
      "source": [
        "#>\n",
        "print(var1>var2)"
      ],
      "metadata": {
        "colab": {
          "base_uri": "https://localhost:8080/"
        },
        "id": "mcT8xtnaFqed",
        "outputId": "6618971a-10f5-4ae5-c4d6-ed6ff5bfea51"
      },
      "execution_count": 31,
      "outputs": [
        {
          "output_type": "stream",
          "name": "stdout",
          "text": [
            "True\n"
          ]
        }
      ]
    },
    {
      "cell_type": "code",
      "source": [
        "#<=\n",
        "var1=10\n",
        "var2=17\n",
        "print(var1<=var2)"
      ],
      "metadata": {
        "colab": {
          "base_uri": "https://localhost:8080/"
        },
        "id": "9HbQCqTUFb-1",
        "outputId": "868867e0-b016-47f2-ef00-c5c8ba4d81f9"
      },
      "execution_count": 32,
      "outputs": [
        {
          "output_type": "stream",
          "name": "stdout",
          "text": [
            "True\n"
          ]
        }
      ]
    },
    {
      "cell_type": "code",
      "source": [
        "#>=\n",
        "var1=20\n",
        "var2=20\n",
        "print(var1>=var2)"
      ],
      "metadata": {
        "colab": {
          "base_uri": "https://localhost:8080/"
        },
        "id": "Tso-ob7-GN-9",
        "outputId": "95a8e1a9-3a1b-47cd-fafb-693305da1006"
      },
      "execution_count": 33,
      "outputs": [
        {
          "output_type": "stream",
          "name": "stdout",
          "text": [
            "True\n"
          ]
        }
      ]
    },
    {
      "cell_type": "code",
      "source": [
        "var1=-10\n",
        "var2=-15\n",
        "print(var1==var2)\n"
      ],
      "metadata": {
        "colab": {
          "base_uri": "https://localhost:8080/"
        },
        "id": "vEGq_yIkHBhl",
        "outputId": "0b5a9bf9-186c-45dc-870b-1db53934883c"
      },
      "execution_count": 34,
      "outputs": [
        {
          "output_type": "stream",
          "name": "stdout",
          "text": [
            "False\n"
          ]
        }
      ]
    },
    {
      "cell_type": "code",
      "source": [],
      "metadata": {
        "id": "nDbbDQXQHLTA"
      },
      "execution_count": null,
      "outputs": []
    },
    {
      "cell_type": "code",
      "source": [
        "var1=7*2\n",
        "var2=2.3\n",
        "print(var1!=var2)"
      ],
      "metadata": {
        "colab": {
          "base_uri": "https://localhost:8080/"
        },
        "id": "D7Q59wFfHVN_",
        "outputId": "3e677868-5759-4734-c2ab-782fa0b369b6"
      },
      "execution_count": 35,
      "outputs": [
        {
          "output_type": "stream",
          "name": "stdout",
          "text": [
            "True\n"
          ]
        }
      ]
    },
    {
      "cell_type": "code",
      "source": [
        "var1=7*2\n",
        "var2=2.3\n",
        "print(var1==var2)"
      ],
      "metadata": {
        "colab": {
          "base_uri": "https://localhost:8080/"
        },
        "id": "ewul_X9tHbr_",
        "outputId": "2121c4c2-615f-4fce-b684-1e86ebe80ba4"
      },
      "execution_count": 36,
      "outputs": [
        {
          "output_type": "stream",
          "name": "stdout",
          "text": [
            "False\n"
          ]
        }
      ]
    },
    {
      "cell_type": "code",
      "source": [
        "#and\n",
        "var1=False\n",
        "var2=True\n",
        "print(var1 and var2)"
      ],
      "metadata": {
        "colab": {
          "base_uri": "https://localhost:8080/"
        },
        "id": "tyb2HRmJHiO0",
        "outputId": "8e4d0c50-6e42-4002-ee0d-f75c88b1e8c2"
      },
      "execution_count": 37,
      "outputs": [
        {
          "output_type": "stream",
          "name": "stdout",
          "text": [
            "False\n"
          ]
        }
      ]
    },
    {
      "cell_type": "code",
      "source": [
        "#or\n",
        "var1=False\n",
        "var2=False\n",
        "print(var1 or var2)"
      ],
      "metadata": {
        "colab": {
          "base_uri": "https://localhost:8080/"
        },
        "id": "8ScKEO8GLFgU",
        "outputId": "8c0432e1-f69e-46af-9182-6539b1ff004c"
      },
      "execution_count": 38,
      "outputs": [
        {
          "output_type": "stream",
          "name": "stdout",
          "text": [
            "False\n"
          ]
        }
      ]
    },
    {
      "cell_type": "code",
      "source": [
        "#not\n",
        "var1=True\n",
        "print(not var1)"
      ],
      "metadata": {
        "colab": {
          "base_uri": "https://localhost:8080/"
        },
        "id": "kcU6xtMTLVyj",
        "outputId": "18b3fd0a-7a11-437a-f2e1-87fa5bfaa674"
      },
      "execution_count": 39,
      "outputs": [
        {
          "output_type": "stream",
          "name": "stdout",
          "text": [
            "False\n"
          ]
        }
      ]
    },
    {
      "cell_type": "code",
      "source": [
        "var1=10\n",
        "var2=15\n",
        "print (var1 and var2)"
      ],
      "metadata": {
        "colab": {
          "base_uri": "https://localhost:8080/"
        },
        "id": "GhI0PH2vLk00",
        "outputId": "d0c885c9-8362-47a1-8ca8-faf5dc9ef487"
      },
      "execution_count": 40,
      "outputs": [
        {
          "output_type": "stream",
          "name": "stdout",
          "text": [
            "15\n"
          ]
        }
      ]
    },
    {
      "cell_type": "code",
      "source": [
        "var1=31\n",
        "var1=var1+5\n",
        "print(var1)"
      ],
      "metadata": {
        "colab": {
          "base_uri": "https://localhost:8080/"
        },
        "id": "t3GHp9v7L-45",
        "outputId": "3a4c0ad9-0d6e-42d8-86c1-fb8e63b819a0"
      },
      "execution_count": 41,
      "outputs": [
        {
          "output_type": "stream",
          "name": "stdout",
          "text": [
            "36\n"
          ]
        }
      ]
    },
    {
      "cell_type": "code",
      "source": [
        "var1=31\n",
        "var1+=5\n",
        "print(var1)"
      ],
      "metadata": {
        "colab": {
          "base_uri": "https://localhost:8080/"
        },
        "id": "U9cafRYLNe1k",
        "outputId": "47ea091e-9be9-406f-e43a-92ade4176e02"
      },
      "execution_count": 43,
      "outputs": [
        {
          "output_type": "stream",
          "name": "stdout",
          "text": [
            "36\n"
          ]
        }
      ]
    },
    {
      "cell_type": "code",
      "source": [
        "var1=10\n",
        "var1=var1-2\n",
        "print(var1)"
      ],
      "metadata": {
        "colab": {
          "base_uri": "https://localhost:8080/"
        },
        "id": "K2L0zGO_Nn28",
        "outputId": "13423f28-58be-4b1f-bd67-565c0780eae6"
      },
      "execution_count": 44,
      "outputs": [
        {
          "output_type": "stream",
          "name": "stdout",
          "text": [
            "8\n"
          ]
        }
      ]
    },
    {
      "cell_type": "code",
      "source": [],
      "metadata": {
        "id": "0f_LyFxcOS2e"
      },
      "execution_count": null,
      "outputs": []
    },
    {
      "cell_type": "code",
      "source": [
        "var1=10\n",
        "var1-=2\n",
        "print(var1)"
      ],
      "metadata": {
        "colab": {
          "base_uri": "https://localhost:8080/"
        },
        "id": "eJggeYc2Oh6G",
        "outputId": "55e25e77-0485-401f-c40a-37279bc26532"
      },
      "execution_count": 45,
      "outputs": [
        {
          "output_type": "stream",
          "name": "stdout",
          "text": [
            "8\n"
          ]
        }
      ]
    },
    {
      "cell_type": "code",
      "source": [
        "var1=10\n",
        "#var1=var1//2\n",
        "var1//=2\n",
        "print(var1)"
      ],
      "metadata": {
        "colab": {
          "base_uri": "https://localhost:8080/"
        },
        "id": "fVfcDJtuOsAq",
        "outputId": "bef76de1-cad3-44a5-dfc1-a431db6c8e7f"
      },
      "execution_count": 48,
      "outputs": [
        {
          "output_type": "stream",
          "name": "stdout",
          "text": [
            "5\n"
          ]
        }
      ]
    },
    {
      "cell_type": "code",
      "source": [],
      "metadata": {
        "id": "icjxbH1OP1bS"
      },
      "execution_count": null,
      "outputs": []
    }
  ]
}